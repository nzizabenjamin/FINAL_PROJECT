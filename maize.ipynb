{
 "cells": [
  {
   "cell_type": "code",
   "execution_count": null,
   "id": "a46a7785",
   "metadata": {},
   "outputs": [],
   "source": [
    "import pandas as pd\n",
    "import numpy as np\n",
    "import matplotlib.pyplot as plt\n",
    "import seaborn as sns"
   ]
  },
  {
   "cell_type": "code",
   "execution_count": null,
   "id": "5f3598f8",
   "metadata": {},
   "outputs": [],
   "source": [
    "# Load the full FAOSTAT crop data\n",
    "faostat_df = pd.read_csv(\"Production_Crops_Livestock_E_All_Data_(Normalized).csv\", encoding='latin-1')\n",
    "\n",
    "# Filter for Rwanda + Maize + Yield\n",
    "maize_yield = faostat_df[\n",
    "    (faostat_df['Area'] == 'Rwanda') &\n",
    "    (faostat_df['Item'] == 'Maize') &\n",
    "    (faostat_df['Element'] == 'Yield')\n",
    "].copy()\n",
    "\n",
    "# Keep only relevant columns\n",
    "maize_yield = maize_yield[['Year', 'Value']]\n",
    "maize_yield.rename(columns={'Value': 'Yield (hg/ha)'}, inplace=True)\n",
    "\n",
    "# Convert hectograms/hectare to tonnes/hectare\n",
    "maize_yield['Yield (tonnes/ha)'] = maize_yield['Yield (hg/ha)'] / 10000\n",
    "\n",
    "# Preview\n",
    "print(maize_yield.head())"
   ]
  }
 ],
 "metadata": {
  "kernelspec": {
   "display_name": "base",
   "language": "python",
   "name": "python3"
  },
  "language_info": {
   "codemirror_mode": {
    "name": "ipython",
    "version": 3
   },
   "file_extension": ".py",
   "mimetype": "text/x-python",
   "name": "python",
   "nbconvert_exporter": "python",
   "pygments_lexer": "ipython3",
   "version": "3.11.7"
  }
 },
 "nbformat": 4,
 "nbformat_minor": 5
}
